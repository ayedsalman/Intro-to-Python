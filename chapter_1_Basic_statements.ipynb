{
  "nbformat": 4,
  "nbformat_minor": 0,
  "metadata": {
    "colab": {
      "name": "chapter 1: Basic statements.ipynb",
      "provenance": [],
      "collapsed_sections": [],
      "authorship_tag": "ABX9TyNocwlwEVHLPSiBsQjKdQor",
      "include_colab_link": true
    },
    "kernelspec": {
      "name": "python3",
      "display_name": "Python 3"
    }
  },
  "cells": [
    {
      "cell_type": "markdown",
      "metadata": {
        "id": "view-in-github",
        "colab_type": "text"
      },
      "source": [
        "<a href=\"https://colab.research.google.com/github/ayedsalman/Intro-to-Python/blob/master/chapter_1_Basic_statements.ipynb\" target=\"_parent\"><img src=\"https://colab.research.google.com/assets/colab-badge.svg\" alt=\"Open In Colab\"/></a>"
      ]
    },
    {
      "cell_type": "markdown",
      "metadata": {
        "id": "qVmMSwDoDLf3",
        "colab_type": "text"
      },
      "source": [
        "# Introduction to Python\n",
        "\n",
        "\n",
        "\n",
        "\n",
        "\n",
        "collection of simple programs to introduce python."
      ]
    },
    {
      "cell_type": "markdown",
      "metadata": {
        "id": "2Vsfn2JjDcn3",
        "colab_type": "text"
      },
      "source": [
        "# Chapter 1: Basic statements"
      ]
    },
    {
      "cell_type": "markdown",
      "metadata": {
        "id": "Gm4-1wAznKiG",
        "colab_type": "text"
      },
      "source": [
        "---\n",
        "This Example illustate the very basic python program statements and syntax:\n",
        "1. python comment: *#........*\n",
        "2. variable declaration and initialization: you dont need to declare a variable type, python deduce variable type from syntax of statement and value given to the variable.\n",
        "3. input reading: *input*(.....)\n",
        "4. print statement: *print*(...) : print statement has many syntax; these are few of them. As we go on with examples we will see others. "
      ]
    },
    {
      "cell_type": "code",
      "metadata": {
        "id": "8Q8lcm4CnXlv",
        "colab_type": "code",
        "colab": {}
      },
      "source": [
        "#Example: simple python statements\n",
        "\n",
        "age = 23\n",
        "name = input(\"Enter your name:\")\n",
        "print(\"This is very simple program\")\n",
        "statement1 = \"your name is\"\n",
        "print(statement1,name,\"and your age is:\", age)"
      ],
      "execution_count": 0,
      "outputs": []
    },
    {
      "cell_type": "markdown",
      "metadata": {
        "id": "_svRu_bCe2kB",
        "colab_type": "text"
      },
      "source": [
        "---\n",
        "This example represent a simple program that illustrates several concepts:\n",
        "1. **if statement**: ***if-keyword*** (*condition*) statement [***else-keyword***: statement]\n",
        "2. **input type conversion**:\n",
        "> 1. int(a, *base*) or int(): This function converts any data type to integer. ‘*Base*’ specifies the base in which string is if data type is string. Default *base* value is 10.\n",
        "> 2. float() : This function is used to convert any data type to a floating point number\n",
        "> 3. ord() : This function is used to convert a character to integer.\n",
        "> 4. hex() : This function is to convert integer to hexadecimal string.\n",
        "> 5. oct() : This function is to convert integer to octal string.\n",
        "3. **Module importing**: One of Pyhton language strength is its modularity. It contains huge number of module that you can includes into your code by an operation called \"***import***\". Also, you can be specific and inlcude some part of the module (not the whole) such as a method or submodule using an operation ***from***. Math module contains mathematical functions needed to perform mathematical operations such as square root.\n",
        "4. **Blocks**: Python use indentation to identify a block. Block is a concept of grouping multiple statements into executing together in case they were have the same indentation.  \n",
        "\n"
      ]
    },
    {
      "cell_type": "code",
      "metadata": {
        "id": "vM5cxW4SByrR",
        "colab_type": "code",
        "outputId": "e267c859-214b-4946-e79e-24151ee81dae",
        "colab": {
          "base_uri": "https://localhost:8080/",
          "height": 85
        }
      },
      "source": [
        "# Example: simple checking even or odd numbers\n",
        "import math\n",
        "from math import sqrt\n",
        "num = int(input (\"enter a number:\"))\n",
        "\n",
        "if num % 2 == 0:\n",
        "  print (num,\" is even\")\n",
        "else:\n",
        "  print (num,\" is odd\")\n",
        "  print(\"am still in else part\")\n",
        "\n",
        "print (num*3)\n",
        "print (sqrt(num))"
      ],
      "execution_count": 0,
      "outputs": [
        {
          "output_type": "stream",
          "text": [
            "enter a number:6\n",
            "6  is even\n",
            "18\n",
            "2.449489742783178\n"
          ],
          "name": "stdout"
        }
      ]
    },
    {
      "cell_type": "markdown",
      "metadata": {
        "id": "VHB33s9lKfAg",
        "colab_type": "text"
      },
      "source": [
        "\n",
        "\n",
        "---\n",
        "This example illustrates the following concepts:\n",
        "1. for loop:\n"
      ]
    },
    {
      "cell_type": "markdown",
      "metadata": {
        "id": "uccRhYQiuFwj",
        "colab_type": "text"
      },
      "source": [
        "\n",
        "\n",
        "---\n",
        "\n",
        "These programs illustrates the following concepts:\n",
        "1.  **list** (most widely used data structure in python): A **list** in python can takes any number of items with different types. A Python list is stored as list of objects where each object has its own type of value. This allows list to contains different type items in the same list. \n",
        "2. **multiple line declaration**: in Python you can extend a statement in multiple lines using different ways."
      ]
    },
    {
      "cell_type": "code",
      "metadata": {
        "id": "MWbxHfS4uP0Q",
        "colab_type": "code",
        "colab": {}
      },
      "source": [
        "# Example: Python program to illustrate list \n",
        "\n",
        "# creates a empty list \n",
        "mylist = [] \n",
        "mylist = ['one',\n",
        "          1.0,\n",
        "          3]\n",
        "mylist = mylist + [100]\n",
        "# appending data in list \n",
        "mylist.append(\"hello\") \n",
        "mylist.append(40.5) \n",
        "mylist.append(2) \n",
        "\n",
        "sum = 1 + 2 \\\n",
        "      + 5 \\\n",
        "      + 7\n",
        "x = {1 + 2 + 3 + 4 \n",
        "     + 5 + 6 +\n",
        "     7 + 8 + 9}\n",
        "mylist.append(sum)\n",
        "mylist.append(x)\n",
        "print(mylist) \n"
      ],
      "execution_count": 0,
      "outputs": []
    },
    {
      "cell_type": "code",
      "metadata": {
        "id": "e64E8eScEKtD",
        "colab_type": "code",
        "colab": {}
      },
      "source": [
        "#continue list example above\n",
        "[type(item) for item in mylist]"
      ],
      "execution_count": 0,
      "outputs": []
    },
    {
      "cell_type": "code",
      "metadata": {
        "id": "8tsthNPuEauK",
        "colab_type": "code",
        "colab": {}
      },
      "source": [
        "#continue list options\n",
        "myseclist = list(range(4))\n",
        "myseclist\n",
        "type(myseclist[0])"
      ],
      "execution_count": 0,
      "outputs": []
    },
    {
      "cell_type": "code",
      "metadata": {
        "id": "X_WQBVwcFGrY",
        "colab_type": "code",
        "colab": {}
      },
      "source": [
        "#continue list options\n",
        "mycharlist = [str(c) for c in myseclist]\n",
        "mycharlist"
      ],
      "execution_count": 0,
      "outputs": []
    },
    {
      "cell_type": "markdown",
      "metadata": {
        "id": "i3U3uW44HXA3",
        "colab_type": "text"
      },
      "source": [
        "\n",
        "\n",
        "---\n",
        "This example illustrates:\n",
        "1.  **numpy array** which is a more efficient version of a list but with same type items. You can simply transfer Python list to a numpy array. If list items are not the same then numpy array can supercast all items to the higher type.\n"
      ]
    },
    {
      "cell_type": "code",
      "metadata": {
        "id": "UfvIvLQ7H5qW",
        "colab_type": "code",
        "colab": {}
      },
      "source": [
        "#Example of using numpy module \n",
        "import numpy as np\n",
        "\n",
        "print(np.array(mycharlist))\n",
        "\n",
        "newlist= np.array(mylist)\n",
        "print(newlist)\n",
        "\n",
        "#supercasting numpy array items\n",
        "print(np.array([1, 3, 4.5, 6]))\n",
        "\n",
        "#explicit data type declaration for numpy array items\n",
        "np.array([1, 2.5, 3.1, 4], dtype='int')\n",
        "\n",
        "#implicit multi-dimensional arrays using numpy arrays\n",
        "np.array([range(i, i + 3) for i in [2, 4, 6]])"
      ],
      "execution_count": 0,
      "outputs": []
    },
    {
      "cell_type": "markdown",
      "metadata": {
        "id": "XIqel6xifipo",
        "colab_type": "text"
      },
      "source": [
        "---\n",
        "Examples illustrating **string manipulations**\n"
      ]
    },
    {
      "cell_type": "code",
      "metadata": {
        "id": "d2R8KskLd-g4",
        "colab_type": "code",
        "outputId": "b177dc86-146d-4cc1-d06f-13848d185e97",
        "colab": {
          "base_uri": "https://localhost:8080/",
          "height": 102
        }
      },
      "source": [
        "astring = \"Hello world!\"\n",
        "astring = astring + \" The end.\"\n",
        "print (astring)\n",
        "# string slice:  string([start:] stop [:step])\n",
        "print(astring[3:9:2])\n",
        "print(astring[4])\n",
        "print(astring[2:7])\n",
        "print(astring[-1:6:1])"
      ],
      "execution_count": 0,
      "outputs": [
        {
          "output_type": "stream",
          "text": [
            "Hello world! The end.\n",
            "l o\n",
            "o\n",
            "llo w\n",
            "\n"
          ],
          "name": "stdout"
        }
      ]
    },
    {
      "cell_type": "code",
      "metadata": {
        "id": "hPVBIPTFecDn",
        "colab_type": "code",
        "colab": {}
      },
      "source": [
        "s = \"Hey there! what should this string be?\"\n",
        "# Length should be 20\n",
        "print(\"Length of s = %d\" % len(s))\n",
        "\n",
        "# First occurrence of \"a\" should be at index 8\n",
        "print(\"The first occurrence of the letter a = %d\" % s.index(\"a\"))\n",
        "\n",
        "# Number of a's should be 2\n",
        "print(\"a occurs %d times\" % s.count(\"a\"))\n",
        "\n",
        "# Slicing the string into bits\n",
        "print(\"The first five characters are '%s'\" % s[:5]) # Start to 5\n",
        "print(\"The next five characters are '%s'\" % s[5:10]) # 5 to 10\n",
        "print(\"The thirteenth character is '%s'\" % s[12]) # Just number 12\n",
        "print(\"The characters with odd index are '%s'\" %s[1::2]) #(0-based indexing)\n",
        "print(\"The last five characters are '%s'\" % s[-5:]) # 5th-from-last to end\n",
        "\n",
        "# Convert everything to uppercase\n",
        "print(\"String in uppercase: %s\" % s.upper())\n",
        "\n",
        "# Convert everything to lowercase\n",
        "print(\"String in lowercase: %s\" % s.lower())\n",
        "\n",
        "# Check how a string starts\n",
        "if s.startswith(\"Hey\"):\n",
        "    print(\"String starts with 'Hey'. Good!\")\n",
        "\n",
        "# Check how a string ends\n",
        "if s.endswith(\"ome!\"):\n",
        "    print(\"String ends with 'ome!'. Good!\")\n",
        "\n",
        "# Split the string into a list of separate strings,\n",
        "# each containing only a word\n",
        "print(\"Split the words of the string: %s\" % s.split(\" \"))"
      ],
      "execution_count": 0,
      "outputs": []
    }
  ]
}